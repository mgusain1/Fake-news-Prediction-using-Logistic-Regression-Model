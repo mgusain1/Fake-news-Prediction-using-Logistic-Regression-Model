{
  "nbformat": 4,
  "nbformat_minor": 0,
  "metadata": {
    "colab": {
      "provenance": []
    },
    "kernelspec": {
      "name": "python3",
      "display_name": "Python 3"
    },
    "language_info": {
      "name": "python"
    }
  },
  "cells": [
    {
      "cell_type": "markdown",
      "source": [
        "Importing dependencies"
      ],
      "metadata": {
        "id": "2fx2gyeIU5B7"
      }
    },
    {
      "cell_type": "code",
      "execution_count": 42,
      "metadata": {
        "id": "jm93QhDbU0HR"
      },
      "outputs": [],
      "source": [
        "import numpy as np #for conversion to array\n",
        "import pandas as pd #for dataframes\n",
        "import re #for regular expression as we are converting text to numbers\n",
        "import nltk #for natural language processing\n",
        "from nltk.corpus import stopwords\n",
        "from nltk.stem.porter import PorterStemmer\n",
        "from sklearn.feature_extraction.text import TfidfVectorizer\n",
        "from sklearn.model_selection import train_test_split\n",
        "from sklearn.linear_model import LogisticRegression\n",
        "from sklearn.metrics import accuracy_score"
      ]
    },
    {
      "cell_type": "code",
      "source": [
        "nltk.download('stopwords')"
      ],
      "metadata": {
        "colab": {
          "base_uri": "https://localhost:8080/"
        },
        "id": "_M8u-157WHWp",
        "outputId": "794eec79-f218-441e-faff-8fdcdf2a684c"
      },
      "execution_count": 24,
      "outputs": [
        {
          "output_type": "stream",
          "name": "stderr",
          "text": [
            "[nltk_data] Downloading package stopwords to /root/nltk_data...\n",
            "[nltk_data]   Package stopwords is already up-to-date!\n"
          ]
        },
        {
          "output_type": "execute_result",
          "data": {
            "text/plain": [
              "True"
            ]
          },
          "metadata": {},
          "execution_count": 24
        }
      ]
    },
    {
      "cell_type": "code",
      "source": [
        "print(stopwords.words('english'))"
      ],
      "metadata": {
        "colab": {
          "base_uri": "https://localhost:8080/"
        },
        "id": "dxd6m5uVWcF1",
        "outputId": "998bf00c-8b5a-45d5-be9f-7c823f88a5de"
      },
      "execution_count": 25,
      "outputs": [
        {
          "output_type": "stream",
          "name": "stdout",
          "text": [
            "['i', 'me', 'my', 'myself', 'we', 'our', 'ours', 'ourselves', 'you', \"you're\", \"you've\", \"you'll\", \"you'd\", 'your', 'yours', 'yourself', 'yourselves', 'he', 'him', 'his', 'himself', 'she', \"she's\", 'her', 'hers', 'herself', 'it', \"it's\", 'its', 'itself', 'they', 'them', 'their', 'theirs', 'themselves', 'what', 'which', 'who', 'whom', 'this', 'that', \"that'll\", 'these', 'those', 'am', 'is', 'are', 'was', 'were', 'be', 'been', 'being', 'have', 'has', 'had', 'having', 'do', 'does', 'did', 'doing', 'a', 'an', 'the', 'and', 'but', 'if', 'or', 'because', 'as', 'until', 'while', 'of', 'at', 'by', 'for', 'with', 'about', 'against', 'between', 'into', 'through', 'during', 'before', 'after', 'above', 'below', 'to', 'from', 'up', 'down', 'in', 'out', 'on', 'off', 'over', 'under', 'again', 'further', 'then', 'once', 'here', 'there', 'when', 'where', 'why', 'how', 'all', 'any', 'both', 'each', 'few', 'more', 'most', 'other', 'some', 'such', 'no', 'nor', 'not', 'only', 'own', 'same', 'so', 'than', 'too', 'very', 's', 't', 'can', 'will', 'just', 'don', \"don't\", 'should', \"should've\", 'now', 'd', 'll', 'm', 'o', 're', 've', 'y', 'ain', 'aren', \"aren't\", 'couldn', \"couldn't\", 'didn', \"didn't\", 'doesn', \"doesn't\", 'hadn', \"hadn't\", 'hasn', \"hasn't\", 'haven', \"haven't\", 'isn', \"isn't\", 'ma', 'mightn', \"mightn't\", 'mustn', \"mustn't\", 'needn', \"needn't\", 'shan', \"shan't\", 'shouldn', \"shouldn't\", 'wasn', \"wasn't\", 'weren', \"weren't\", 'won', \"won't\", 'wouldn', \"wouldn't\"]\n"
          ]
        }
      ]
    },
    {
      "cell_type": "markdown",
      "source": [
        "these stopwords dont actually contribute anything to our data thats why we use these to remove these words from the dataset"
      ],
      "metadata": {
        "id": "yoEoi0jlWvX8"
      }
    },
    {
      "cell_type": "markdown",
      "source": [
        "Data preprocessing"
      ],
      "metadata": {
        "id": "wPTZdamYW6v8"
      }
    },
    {
      "cell_type": "code",
      "source": [
        "#loading the dataset\n",
        "news_data = pd.read_csv('/content/train.csv')\n",
        "#printing the first five rows\n",
        "news_data.head()\n",
        "#the shape of dataset in form(rows,colums)\n",
        "news_data.shape"
      ],
      "metadata": {
        "colab": {
          "base_uri": "https://localhost:8080/"
        },
        "id": "VCgDINFXW2vx",
        "outputId": "c0834ce5-a318-48fc-d195-bc0db3b99878"
      },
      "execution_count": 26,
      "outputs": [
        {
          "output_type": "execute_result",
          "data": {
            "text/plain": [
              "(20800, 5)"
            ]
          },
          "metadata": {},
          "execution_count": 26
        }
      ]
    },
    {
      "cell_type": "markdown",
      "source": [
        "0-> real news\n",
        "\n",
        "1-> fake news"
      ],
      "metadata": {
        "id": "klIbSJEdXrBM"
      }
    },
    {
      "cell_type": "code",
      "source": [
        "news_data['label'].value_counts()\n",
        "\n",
        "#checking for missing values\n",
        "news_data.isnull().sum()\n",
        "\n",
        "#in case of numerical dataset we can replace the value with mean value\n",
        "#but since this is a text dataset so we will fill with empty string\n",
        "news_data = news_data.fillna('')"
      ],
      "metadata": {
        "id": "4WBdJ1U6XW9c"
      },
      "execution_count": 27,
      "outputs": []
    },
    {
      "cell_type": "markdown",
      "source": [
        "we will now merge the author name and news title"
      ],
      "metadata": {
        "id": "QWfrYX5sbGTP"
      }
    },
    {
      "cell_type": "code",
      "source": [
        "#lets merge the author and news title\n",
        "news_data['content'] = news_data['author']+' '+news_data['title']\n",
        "news_data.shape"
      ],
      "metadata": {
        "colab": {
          "base_uri": "https://localhost:8080/"
        },
        "id": "v1jVAsGNYQM1",
        "outputId": "83895d57-61bd-4e47-cdb2-c62f83453714"
      },
      "execution_count": 28,
      "outputs": [
        {
          "output_type": "execute_result",
          "data": {
            "text/plain": [
              "(20800, 6)"
            ]
          },
          "metadata": {},
          "execution_count": 28
        }
      ]
    },
    {
      "cell_type": "markdown",
      "source": [
        "Seperating features and target"
      ],
      "metadata": {
        "id": "TOdmB70acU3p"
      }
    },
    {
      "cell_type": "code",
      "source": [
        "X = news_data.drop(columns='label',axis=1)\n",
        "Y = news_data['label']\n",
        "print(X)\n",
        "print(Y)\n",
        "#"
      ],
      "metadata": {
        "colab": {
          "base_uri": "https://localhost:8080/"
        },
        "id": "_ABHRK8dcYIv",
        "outputId": "36d26077-9090-44b3-badf-2090dabc022a"
      },
      "execution_count": 29,
      "outputs": [
        {
          "output_type": "stream",
          "name": "stdout",
          "text": [
            "          id                                              title  \\\n",
            "0          0  House Dem Aide: We Didn’t Even See Comey’s Let...   \n",
            "1          1  FLYNN: Hillary Clinton, Big Woman on Campus - ...   \n",
            "2          2                  Why the Truth Might Get You Fired   \n",
            "3          3  15 Civilians Killed In Single US Airstrike Hav...   \n",
            "4          4  Iranian woman jailed for fictional unpublished...   \n",
            "...      ...                                                ...   \n",
            "20795  20795  Rapper T.I.: Trump a ’Poster Child For White S...   \n",
            "20796  20796  N.F.L. Playoffs: Schedule, Matchups and Odds -...   \n",
            "20797  20797  Macy’s Is Said to Receive Takeover Approach by...   \n",
            "20798  20798  NATO, Russia To Hold Parallel Exercises In Bal...   \n",
            "20799  20799                          What Keeps the F-35 Alive   \n",
            "\n",
            "                                          author  \\\n",
            "0                                  Darrell Lucus   \n",
            "1                                Daniel J. Flynn   \n",
            "2                             Consortiumnews.com   \n",
            "3                                Jessica Purkiss   \n",
            "4                                 Howard Portnoy   \n",
            "...                                          ...   \n",
            "20795                              Jerome Hudson   \n",
            "20796                           Benjamin Hoffman   \n",
            "20797  Michael J. de la Merced and Rachel Abrams   \n",
            "20798                                Alex Ansary   \n",
            "20799                              David Swanson   \n",
            "\n",
            "                                                    text  \\\n",
            "0      House Dem Aide: We Didn’t Even See Comey’s Let...   \n",
            "1      Ever get the feeling your life circles the rou...   \n",
            "2      Why the Truth Might Get You Fired October 29, ...   \n",
            "3      Videos 15 Civilians Killed In Single US Airstr...   \n",
            "4      Print \\nAn Iranian woman has been sentenced to...   \n",
            "...                                                  ...   \n",
            "20795  Rapper T. I. unloaded on black celebrities who...   \n",
            "20796  When the Green Bay Packers lost to the Washing...   \n",
            "20797  The Macy’s of today grew from the union of sev...   \n",
            "20798  NATO, Russia To Hold Parallel Exercises In Bal...   \n",
            "20799    David Swanson is an author, activist, journa...   \n",
            "\n",
            "                                                 content  \n",
            "0      Darrell Lucus House Dem Aide: We Didn’t Even S...  \n",
            "1      Daniel J. Flynn FLYNN: Hillary Clinton, Big Wo...  \n",
            "2      Consortiumnews.com Why the Truth Might Get You...  \n",
            "3      Jessica Purkiss 15 Civilians Killed In Single ...  \n",
            "4      Howard Portnoy Iranian woman jailed for fictio...  \n",
            "...                                                  ...  \n",
            "20795  Jerome Hudson Rapper T.I.: Trump a ’Poster Chi...  \n",
            "20796  Benjamin Hoffman N.F.L. Playoffs: Schedule, Ma...  \n",
            "20797  Michael J. de la Merced and Rachel Abrams Macy...  \n",
            "20798  Alex Ansary NATO, Russia To Hold Parallel Exer...  \n",
            "20799            David Swanson What Keeps the F-35 Alive  \n",
            "\n",
            "[20800 rows x 5 columns]\n",
            "0        1\n",
            "1        0\n",
            "2        1\n",
            "3        1\n",
            "4        1\n",
            "        ..\n",
            "20795    0\n",
            "20796    0\n",
            "20797    0\n",
            "20798    1\n",
            "20799    1\n",
            "Name: label, Length: 20800, dtype: int64\n"
          ]
        }
      ]
    },
    {
      "cell_type": "markdown",
      "source": [
        "here we dont have to do anything to Y as it only has numerical values\n",
        "\n",
        "but in case of x we have to process the text data\n",
        "\n",
        "we will do it by Stemming:\n",
        "\n",
        "Stemming is the process of reducing a word to its keyword or rootword\n",
        "\n",
        "we will be using porter stemmer\n"
      ],
      "metadata": {
        "id": "ZM0Y2qoFdd_q"
      }
    },
    {
      "cell_type": "code",
      "source": [
        "#loading the stemmer function\n",
        "port_stem = PorterStemmer()\n",
        "port_stem.stem('enjoying') #example"
      ],
      "metadata": {
        "colab": {
          "base_uri": "https://localhost:8080/",
          "height": 35
        },
        "id": "fo_Jfmqbdm6x",
        "outputId": "62814dad-bf2f-4bf0-868e-875fcfb3c2b3"
      },
      "execution_count": 30,
      "outputs": [
        {
          "output_type": "execute_result",
          "data": {
            "text/plain": [
              "'enjoy'"
            ],
            "application/vnd.google.colaboratory.intrinsic+json": {
              "type": "string"
            }
          },
          "metadata": {},
          "execution_count": 30
        }
      ]
    },
    {
      "cell_type": "markdown",
      "source": [
        "for the stemming function\n",
        "\n",
        "first remove all punctuation\n",
        "\n",
        "then convert all words to lowercase\n",
        "\n",
        "then split all words\n",
        "\n",
        "all the words which arenot in stopwords then they go through stemming\n",
        "\n",
        "then join them\n",
        "\n",
        "\n"
      ],
      "metadata": {
        "id": "owkjnVcjg0ln"
      }
    },
    {
      "cell_type": "code",
      "source": [
        "#making a stemming function\n",
        "def stemming(content):\n",
        "  stemmed_content = re.sub('[^a-zA-z]',' ',content)\n",
        "  stemmed_content = stemmed_content.lower()\n",
        "  stemmed_content = stemmed_content.split()\n",
        "  stemmed_content = [port_stem.stem(word) for word in stemmed_content if not word in stopwords.words('english')]\n",
        "  stemmed_content = ' '.join(stemmed_content)\n",
        "  return stemmed_content"
      ],
      "metadata": {
        "id": "W7SK_bVafsru"
      },
      "execution_count": 31,
      "outputs": []
    },
    {
      "cell_type": "code",
      "source": [
        "news_data['content'] = news_data['content'].apply(stemming)"
      ],
      "metadata": {
        "id": "FkmN47Mhifr-"
      },
      "execution_count": 33,
      "outputs": []
    },
    {
      "cell_type": "code",
      "source": [
        "print(news_data['content'])"
      ],
      "metadata": {
        "colab": {
          "base_uri": "https://localhost:8080/"
        },
        "id": "dlSRNviji9_U",
        "outputId": "ebd00c49-b018-4545-f17b-1b6b860dd103"
      },
      "execution_count": 34,
      "outputs": [
        {
          "output_type": "stream",
          "name": "stdout",
          "text": [
            "0        darrel lucu hou dem aid even see comey letter ...\n",
            "1        daniel j flynn flynn hillari clinton big woman...\n",
            "2                   consortiumnew com truth might get fire\n",
            "3        jessica purkiss civilian kill singl us airstri...\n",
            "4        howard portnoy iranian woman jail fiction unpu...\n",
            "                               ...                        \n",
            "20795    jerom hudson rapper trump poster child white s...\n",
            "20796    benjamin hoffman n f l playoff schedul matchup...\n",
            "20797    michael j de la merc rachel abram maci said re...\n",
            "20798    alex ansari nato russia hold parallel exerci b...\n",
            "20799                            david swanson keep f aliv\n",
            "Name: content, Length: 20800, dtype: object\n"
          ]
        }
      ]
    },
    {
      "cell_type": "code",
      "source": [
        "X = news_data['content'].values\n",
        "Y = news_data['label'].values\n",
        "# print(X)\n",
        "# print(Y)\n",
        "\n",
        "print(type(X))\n",
        "print(type(Y))\n",
        "\n",
        "print(X.shape)\n",
        "print(Y.shape)"
      ],
      "metadata": {
        "colab": {
          "base_uri": "https://localhost:8080/"
        },
        "id": "Y58RkQT2i_b1",
        "outputId": "848f002d-e351-40b4-c7c0-aa3f84c6b206"
      },
      "execution_count": 37,
      "outputs": [
        {
          "output_type": "stream",
          "name": "stdout",
          "text": [
            "<class 'numpy.ndarray'>\n",
            "<class 'numpy.ndarray'>\n",
            "(20800,)\n",
            "(20800,)\n"
          ]
        }
      ]
    },
    {
      "cell_type": "markdown",
      "source": [
        "converting the textual data to feature vectors\n",
        "\n",
        "load TfidVectorizer\n",
        "\n",
        "term frequeny and Inverse docuemnt frequency\n",
        "\n",
        "fit the vectorizer with X\n",
        "\n",
        "then transform X"
      ],
      "metadata": {
        "id": "ixVVfgFsjPmm"
      }
    },
    {
      "cell_type": "code",
      "source": [
        "vectorizer = TfidfVectorizer()\n",
        "vectorizer.fit(X)\n",
        "X = vectorizer.transform(X)\n",
        "print(X)"
      ],
      "metadata": {
        "colab": {
          "base_uri": "https://localhost:8080/"
        },
        "id": "CDhWdrb5jHqN",
        "outputId": "4c41a2f2-6169-4415-95a1-97017b0705e0"
      },
      "execution_count": 38,
      "outputs": [
        {
          "output_type": "stream",
          "name": "stdout",
          "text": [
            "  (0, 15566)\t0.28485063562728646\n",
            "  (0, 13357)\t0.2565896679337957\n",
            "  (0, 8829)\t0.3635963806326075\n",
            "  (0, 8553)\t0.29212514087043684\n",
            "  (0, 7619)\t0.24785219520671603\n",
            "  (0, 6938)\t0.21874169089359144\n",
            "  (0, 4924)\t0.233316966909351\n",
            "  (0, 3762)\t0.2705332480845492\n",
            "  (0, 3570)\t0.3598939188262559\n",
            "  (0, 2936)\t0.2468450128533713\n",
            "  (0, 2466)\t0.3676519686797209\n",
            "  (0, 264)\t0.27010124977708766\n",
            "  (1, 16671)\t0.3025156488372128\n",
            "  (1, 6752)\t0.19152496072048605\n",
            "  (1, 5448)\t0.7186013955384664\n",
            "  (1, 3538)\t0.2653147533915268\n",
            "  (1, 2793)\t0.19208753385709676\n",
            "  (1, 2207)\t0.36915639258038363\n",
            "  (1, 1878)\t0.15614790568229528\n",
            "  (1, 1482)\t0.2957471154505952\n",
            "  (2, 15491)\t0.41544962664721613\n",
            "  (2, 9538)\t0.49351492943649944\n",
            "  (2, 5911)\t0.3474613386728292\n",
            "  (2, 5334)\t0.3866530551182615\n",
            "  (2, 3075)\t0.46097489583229645\n",
            "  :\t:\n",
            "  (20797, 13006)\t0.2483705036831893\n",
            "  (20797, 12235)\t0.27276402145717243\n",
            "  (20797, 12030)\t0.24790022252744132\n",
            "  (20797, 10222)\t0.0804189541935242\n",
            "  (20797, 9506)\t0.17463635692029988\n",
            "  (20797, 9437)\t0.2939494781564304\n",
            "  (20797, 8908)\t0.3617803783368178\n",
            "  (20797, 8289)\t0.22333184464489023\n",
            "  (20797, 6977)\t0.21809398920480086\n",
            "  (20797, 3613)\t0.211655450844435\n",
            "  (20797, 1275)\t0.33553980418478896\n",
            "  (20797, 690)\t0.30700415486138355\n",
            "  (20797, 44)\t0.29724348057612154\n",
            "  (20798, 12931)\t0.22363267488270608\n",
            "  (20798, 10956)\t0.4460515589182236\n",
            "  (20798, 10094)\t0.3192496370187028\n",
            "  (20798, 6824)\t0.32496285694299426\n",
            "  (20798, 4981)\t0.4083701450239529\n",
            "  (20798, 1113)\t0.4460515589182236\n",
            "  (20798, 581)\t0.3112141524638974\n",
            "  (20798, 346)\t0.28446937819072576\n",
            "  (20799, 14734)\t0.5677577267055112\n",
            "  (20799, 7962)\t0.45983893273780013\n",
            "  (20799, 3593)\t0.37927626273066584\n",
            "  (20799, 373)\t0.5677577267055112\n"
          ]
        }
      ]
    },
    {
      "cell_type": "markdown",
      "source": [
        "Splitting our data into training and test dataset\n",
        "\n",
        "Stratify :- When you use stratify=Y, the split is performed in such a way that each subset (training and test sets) has approximately the same distribution of classes as the original dataset. This means that if your original dataset has a certain percentage of each class, the training and test sets will maintain that same percentage.\n",
        "\n",
        "\n",
        "When you don't specify the stratify parameter, or explicitly set it to None, train_test_split will randomly sample the data to create the training and test sets without considering the class distribution.\n",
        "This can lead to imbalanced classes in the training or test set if the class distribution in the dataset is skewed. For instance, if one class is underrepresented, you might end up with very few samples of that class in one of the splits, which can impact model training and evaluation.\n",
        "\n",
        "\n",
        "The stratify parameter is specifically designed to work with the target variable Y and not with the features X. If you pass X to the stratify parameter, it will cause an error because stratify expects a 1D array-like structure that represents class labels, not a 2D feature matrix."
      ],
      "metadata": {
        "id": "Cj_X0Xl8OJsK"
      }
    },
    {
      "cell_type": "code",
      "source": [
        "X_train,X_test,Y_train,Y_test = train_test_split(X,Y,test_size=0.2,stratify=Y,random_state=2)"
      ],
      "metadata": {
        "id": "w7ExdTtykZeP"
      },
      "execution_count": 40,
      "outputs": []
    },
    {
      "cell_type": "markdown",
      "source": [
        "Training the model: Logistic Regression\n",
        "\n",
        "In logistic regression, a graph is plotted which uses a sigmoid function which is\n",
        "Y = 1/(1+e^-z)\n",
        "\n",
        " z = w.x+b\n",
        "\n",
        " X - input features\n",
        "\n",
        "Y - Prediction Probability\n",
        "\n",
        "w - weights -> how important will that particular column be\n",
        "\n",
        "b - biases\n",
        "which gives us the Y-value if this value is greater than the threshold value of 0.5\n",
        "then the label is 1 which in our case is that the news is false and if the threshold value is less than 0.5\n",
        "then the label is 0 which in our case is that the news is real\n"
      ],
      "metadata": {
        "id": "sg6QwDulQxEz"
      }
    },
    {
      "cell_type": "markdown",
      "source": [
        "1st -> take model from LR\n",
        "\n",
        "2nd -> fit the training models in LR\n",
        "\n",
        "3rd-> find accuracy score"
      ],
      "metadata": {
        "id": "as1Z1cJtSYi4"
      }
    },
    {
      "cell_type": "code",
      "source": [
        "model = LogisticRegression()\n",
        "model.fit(X_train,Y_train)"
      ],
      "metadata": {
        "colab": {
          "base_uri": "https://localhost:8080/",
          "height": 74
        },
        "id": "cgoRyFo1OgNy",
        "outputId": "654cdcd7-89cc-4b15-f083-c0f3524b7f5a"
      },
      "execution_count": 43,
      "outputs": [
        {
          "output_type": "execute_result",
          "data": {
            "text/plain": [
              "LogisticRegression()"
            ],
            "text/html": [
              "<style>#sk-container-id-1 {color: black;}#sk-container-id-1 pre{padding: 0;}#sk-container-id-1 div.sk-toggleable {background-color: white;}#sk-container-id-1 label.sk-toggleable__label {cursor: pointer;display: block;width: 100%;margin-bottom: 0;padding: 0.3em;box-sizing: border-box;text-align: center;}#sk-container-id-1 label.sk-toggleable__label-arrow:before {content: \"▸\";float: left;margin-right: 0.25em;color: #696969;}#sk-container-id-1 label.sk-toggleable__label-arrow:hover:before {color: black;}#sk-container-id-1 div.sk-estimator:hover label.sk-toggleable__label-arrow:before {color: black;}#sk-container-id-1 div.sk-toggleable__content {max-height: 0;max-width: 0;overflow: hidden;text-align: left;background-color: #f0f8ff;}#sk-container-id-1 div.sk-toggleable__content pre {margin: 0.2em;color: black;border-radius: 0.25em;background-color: #f0f8ff;}#sk-container-id-1 input.sk-toggleable__control:checked~div.sk-toggleable__content {max-height: 200px;max-width: 100%;overflow: auto;}#sk-container-id-1 input.sk-toggleable__control:checked~label.sk-toggleable__label-arrow:before {content: \"▾\";}#sk-container-id-1 div.sk-estimator input.sk-toggleable__control:checked~label.sk-toggleable__label {background-color: #d4ebff;}#sk-container-id-1 div.sk-label input.sk-toggleable__control:checked~label.sk-toggleable__label {background-color: #d4ebff;}#sk-container-id-1 input.sk-hidden--visually {border: 0;clip: rect(1px 1px 1px 1px);clip: rect(1px, 1px, 1px, 1px);height: 1px;margin: -1px;overflow: hidden;padding: 0;position: absolute;width: 1px;}#sk-container-id-1 div.sk-estimator {font-family: monospace;background-color: #f0f8ff;border: 1px dotted black;border-radius: 0.25em;box-sizing: border-box;margin-bottom: 0.5em;}#sk-container-id-1 div.sk-estimator:hover {background-color: #d4ebff;}#sk-container-id-1 div.sk-parallel-item::after {content: \"\";width: 100%;border-bottom: 1px solid gray;flex-grow: 1;}#sk-container-id-1 div.sk-label:hover label.sk-toggleable__label {background-color: #d4ebff;}#sk-container-id-1 div.sk-serial::before {content: \"\";position: absolute;border-left: 1px solid gray;box-sizing: border-box;top: 0;bottom: 0;left: 50%;z-index: 0;}#sk-container-id-1 div.sk-serial {display: flex;flex-direction: column;align-items: center;background-color: white;padding-right: 0.2em;padding-left: 0.2em;position: relative;}#sk-container-id-1 div.sk-item {position: relative;z-index: 1;}#sk-container-id-1 div.sk-parallel {display: flex;align-items: stretch;justify-content: center;background-color: white;position: relative;}#sk-container-id-1 div.sk-item::before, #sk-container-id-1 div.sk-parallel-item::before {content: \"\";position: absolute;border-left: 1px solid gray;box-sizing: border-box;top: 0;bottom: 0;left: 50%;z-index: -1;}#sk-container-id-1 div.sk-parallel-item {display: flex;flex-direction: column;z-index: 1;position: relative;background-color: white;}#sk-container-id-1 div.sk-parallel-item:first-child::after {align-self: flex-end;width: 50%;}#sk-container-id-1 div.sk-parallel-item:last-child::after {align-self: flex-start;width: 50%;}#sk-container-id-1 div.sk-parallel-item:only-child::after {width: 0;}#sk-container-id-1 div.sk-dashed-wrapped {border: 1px dashed gray;margin: 0 0.4em 0.5em 0.4em;box-sizing: border-box;padding-bottom: 0.4em;background-color: white;}#sk-container-id-1 div.sk-label label {font-family: monospace;font-weight: bold;display: inline-block;line-height: 1.2em;}#sk-container-id-1 div.sk-label-container {text-align: center;}#sk-container-id-1 div.sk-container {/* jupyter's `normalize.less` sets `[hidden] { display: none; }` but bootstrap.min.css set `[hidden] { display: none !important; }` so we also need the `!important` here to be able to override the default hidden behavior on the sphinx rendered scikit-learn.org. See: https://github.com/scikit-learn/scikit-learn/issues/21755 */display: inline-block !important;position: relative;}#sk-container-id-1 div.sk-text-repr-fallback {display: none;}</style><div id=\"sk-container-id-1\" class=\"sk-top-container\"><div class=\"sk-text-repr-fallback\"><pre>LogisticRegression()</pre><b>In a Jupyter environment, please rerun this cell to show the HTML representation or trust the notebook. <br />On GitHub, the HTML representation is unable to render, please try loading this page with nbviewer.org.</b></div><div class=\"sk-container\" hidden><div class=\"sk-item\"><div class=\"sk-estimator sk-toggleable\"><input class=\"sk-toggleable__control sk-hidden--visually\" id=\"sk-estimator-id-1\" type=\"checkbox\" checked><label for=\"sk-estimator-id-1\" class=\"sk-toggleable__label sk-toggleable__label-arrow\">LogisticRegression</label><div class=\"sk-toggleable__content\"><pre>LogisticRegression()</pre></div></div></div></div></div>"
            ]
          },
          "metadata": {},
          "execution_count": 43
        }
      ]
    },
    {
      "cell_type": "code",
      "source": [
        "#finding accuracy score for X_train\n",
        "X_train_prediction = model.predict(X_train)\n",
        "training_data_accuracy = accuracy_score(X_train_prediction,Y_train)\n",
        "# This line calculates the accuracy score of the model's predictions on the training data.\n",
        "# Details: accuracy_score is a function from the sklearn.metrics module that compares the predicted labels (X_train_prediction)\n",
        "#  to the actual labels (Y_train). It computes the ratio of the number of correct predictions to the total number of predictions,\n",
        "#  giving a measure of how well the model performed on the training set. This ratio is stored in training_data_accuracy.\n",
        "print('Accuracy score of the training data : ', training_data_accuracy)"
      ],
      "metadata": {
        "colab": {
          "base_uri": "https://localhost:8080/"
        },
        "id": "4JFAsZpjSrjK",
        "outputId": "90e7e701-b5b1-42d4-8e6d-30d4cfe5fdce"
      },
      "execution_count": 44,
      "outputs": [
        {
          "output_type": "stream",
          "name": "stdout",
          "text": [
            "Accuracy score of the training data :  0.9865384615384616\n"
          ]
        }
      ]
    },
    {
      "cell_type": "code",
      "source": [
        "#finding accuracy score for X_test\n",
        "X_test_prediction = model.predict(X_test)\n",
        "test_data_accuracy = accuracy_score(X_test_prediction,Y_test)\n",
        "print('Accuracy score of the test data : ', test_data_accuracy)"
      ],
      "metadata": {
        "colab": {
          "base_uri": "https://localhost:8080/"
        },
        "id": "qxVtE4q9S1nk",
        "outputId": "924d8d4f-6564-4a89-af90-262429b3487b"
      },
      "execution_count": 46,
      "outputs": [
        {
          "output_type": "stream",
          "name": "stdout",
          "text": [
            "Accuracy score of the test data :  0.9790865384615385\n"
          ]
        }
      ]
    },
    {
      "cell_type": "markdown",
      "source": [
        "lets make and test our predictive system"
      ],
      "metadata": {
        "id": "y69xF8UtS_E0"
      }
    },
    {
      "cell_type": "code",
      "source": [
        "X_new = X_test[1]\n",
        "\n",
        "\n",
        "prediction = model.predict(X_new)\n",
        "print(prediction)\n",
        "\n",
        "if (prediction[0]==0):\n",
        "  print('The news is Real')\n",
        "else:\n",
        "  print('The news is Fake')"
      ],
      "metadata": {
        "colab": {
          "base_uri": "https://localhost:8080/"
        },
        "id": "6TlDBsULTAet",
        "outputId": "2b26535d-5103-419b-bb37-70e79555b60a"
      },
      "execution_count": 50,
      "outputs": [
        {
          "output_type": "stream",
          "name": "stdout",
          "text": [
            "[0]\n",
            "The news is Real\n"
          ]
        }
      ]
    },
    {
      "cell_type": "code",
      "source": [
        "print(Y_test[1])"
      ],
      "metadata": {
        "colab": {
          "base_uri": "https://localhost:8080/"
        },
        "id": "A4LTVVd1UQUP",
        "outputId": "39c306bc-d57b-4b58-b281-6bb3e2bde62b"
      },
      "execution_count": 51,
      "outputs": [
        {
          "output_type": "stream",
          "name": "stdout",
          "text": [
            "0\n"
          ]
        }
      ]
    }
  ]
}